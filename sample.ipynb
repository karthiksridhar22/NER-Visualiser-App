{
 "cells": [
  {
   "cell_type": "code",
   "execution_count": 1,
   "metadata": {},
   "outputs": [],
   "source": [
    "import pandas as pd"
   ]
  },
  {
   "cell_type": "code",
   "execution_count": 2,
   "metadata": {},
   "outputs": [],
   "source": [
    "#sample random .02% of the data\n",
    "df = pd.read_csv('./dataset/emails.csv')\n",
    "df1 = df.sample(frac=0.0002)\n"
   ]
  },
  {
   "cell_type": "code",
   "execution_count": 3,
   "metadata": {},
   "outputs": [
    {
     "name": "stdout",
     "output_type": "stream",
     "text": [
      "Message-ID: <1310258.1075843013191.JavaMail.evans@thyme>\n",
      "Date: Mon, 30 Oct 2000 18:21:00 -0800 (PST)\n",
      "From: owner-evmba_social@haas.berkeley.edu\n",
      "To: mba01@haas.berkeley.edu, mba02@haas.berkeley.edu, \n",
      "\tevmba_social@haas.berkeley.edu\n",
      "Subject: VC dinner update - delete if not attending\n",
      "Cc: tibbetts@haas.berkeley.edu, engel@haas.berkeley.edu\n",
      "Mime-Version: 1.0\n",
      "Content-Type: text/plain; charset=us-ascii\n",
      "Content-Transfer-Encoding: 7bit\n",
      "Bcc: tibbetts@haas.berkeley.edu, engel@haas.berkeley.edu\n",
      "X-From: owner-evmba_social@Haas.Berkeley.EDU\n",
      "X-To: mba01@haas.berkeley.edu, mba02@haas.berkeley.edu, evmba_social@haas.berkeley.edu\n",
      "X-cc: tibbetts@haas.berkeley.edu, engel@haas.berkeley.edu\n",
      "X-bcc: \n",
      "X-Folder: \\Jeff_Dasovich_Dec2000\\Notes Folders\\All documents\n",
      "X-Origin: DASOVICH-J\n",
      "X-FileName: jdasovic.nsf\n",
      "\n",
      "I have attached a list confirmed attendees for this event on Mon 6th\n",
      "November \n",
      "so that you can make your own carpooling arrangements. We will be\n",
      "e-mailing \n",
      "you the address of the venue later this week.\n",
      "\n",
      "I have also included in the \n",
      "list the first 8 people on the waitlist. We are\n",
      "doing our best to organise \n",
      "more VC's and another table so that we can\n",
      "accomodate you as well. We should \n",
      "be able to confirm by Thursday 2nd\n",
      "November whether or not this will be \n",
      "possible.\n",
      "\n",
      "As you will note from the attachment, we have still not received \n",
      "bios from\n",
      "many of you. The purpose of these bios is not only to help the VC's\n",
      "\n",
      "familiarise themselves with all of you in advance of the dinner, but to\n",
      "help \n",
      "us place you on tables with VC's in your particular area of interest.\n",
      "The \n",
      "FINAL deadline to receive your bios will be TUESDAY 31st OCTOBER at\n",
      "7pm. \n",
      "Please do try to e-mail me your bio by this time. If your bios are not\n",
      "\n",
      "received by then, we will have to place you randomly.\n",
      "\n",
      "Also, many of you have \n",
      "sent me your regular resumes instead of the bios\n",
      "that we asked for. These do \n",
      "not serve the purpose of providing the VC's\n",
      "with personalised and targeted \n",
      "information about you and why you are\n",
      "interested in meeting with them at this \n",
      "event. If you have sent me such a\n",
      "resume, we cannot guarantee that it will be \n",
      "presented in the same format to\n",
      "the VC's.\n",
      "\n",
      "Following are the VC's who have \n",
      "confirmed that they will be attending:\n",
      "\n",
      "Melissa Daniels, Morgan Stanley \n",
      "Venture Partners\n",
      "Jennifer Gil Roberts, Sevin Rosen Funds\n",
      "John Oxaal, Sevin \n",
      "Rosen Funds\n",
      "Alexander Gove, Walden VC\n",
      "Kevin Hartz, iMinds Ventures\n",
      "Russ \n",
      "Irwin, Covergence Partners\n",
      "Andy Lazlo, VantagePoint\n",
      "Matt Ocklo, VantagePoint\n",
      "\n",
      "Peter Loukianoff, Technology Funding Venture Partners\n",
      "Roy Martinez, Intel \n",
      "Capital\n",
      "Susan Mason, Onset Ventures\n",
      "Joe McDonough, Barrington\n",
      "Jay Morrison, \n",
      "Newbury Ventures\n",
      "Adele Oliva, Particof & Co.\n",
      "George Phipps, Patricof & Co.\n",
      "\n",
      "Neil Weintraut, 21st Century Internet Venture Partners\n",
      "\n",
      "\n",
      "\n",
      "\n",
      "This message \n",
      "powered by EMUMAIL. -- http://www.EMUMAIL.com\n",
      "\n",
      " - List_of_attendees_10.30.00.xls\n"
     ]
    }
   ],
   "source": [
    "print(df1[\"message\"].iloc[0])"
   ]
  },
  {
   "cell_type": "code",
   "execution_count": 4,
   "metadata": {},
   "outputs": [],
   "source": [
    "#save the sample to a new csv file\n",
    "df1.to_csv('./dataset/emails_sample.csv', index=False)"
   ]
  },
  {
   "cell_type": "code",
   "execution_count": 5,
   "metadata": {},
   "outputs": [
    {
     "name": "stdout",
     "output_type": "stream",
     "text": [
      "<class 'pandas.core.frame.DataFrame'>\n",
      "Index: 103 entries, 61581 to 463722\n",
      "Data columns (total 2 columns):\n",
      " #   Column   Non-Null Count  Dtype \n",
      "---  ------   --------------  ----- \n",
      " 0   file     103 non-null    object\n",
      " 1   message  103 non-null    object\n",
      "dtypes: object(2)\n",
      "memory usage: 2.4+ KB\n"
     ]
    }
   ],
   "source": [
    "df1.info()"
   ]
  },
  {
   "cell_type": "code",
   "execution_count": 6,
   "metadata": {},
   "outputs": [],
   "source": [
    "import spacy\n",
    "\n",
    "nlp = spacy.load('en_core_web_sm')\n",
    "\n",
    "def extract_entities(text):\n",
    "    doc = nlp(text)\n",
    "    entities = [(ent.text, ent.label_) for ent in doc.ents]\n",
    "    return entities\n",
    "\n",
    "def parse_email(message):\n",
    "    headers, body = message.split('\\n\\n', 1)\n",
    "    headers = dict([line.split(': ', 1) for line in headers.split('\\n') if ': ' in line])\n",
    "    return headers, body\n",
    "\n",
    "\n",
    "emails = pd.read_csv('./dataset/emails_sample.csv')\n",
    "\n",
    "\n",
    "emails['parsed'] = emails['message'].apply(parse_email)\n",
    "emails['body'] = emails['parsed'].apply(lambda x: x[1])\n",
    "emails['entities'] = emails['body'].apply(extract_entities)"
   ]
  },
  {
   "cell_type": "code",
   "execution_count": 7,
   "metadata": {},
   "outputs": [
    {
     "data": {
      "text/plain": [
       "('CARDINAL',\n",
       " 'DATE',\n",
       " 'EVENT',\n",
       " 'FAC',\n",
       " 'GPE',\n",
       " 'LANGUAGE',\n",
       " 'LAW',\n",
       " 'LOC',\n",
       " 'MONEY',\n",
       " 'NORP',\n",
       " 'ORDINAL',\n",
       " 'ORG',\n",
       " 'PERCENT',\n",
       " 'PERSON',\n",
       " 'PRODUCT',\n",
       " 'QUANTITY',\n",
       " 'TIME',\n",
       " 'WORK_OF_ART')"
      ]
     },
     "execution_count": 7,
     "metadata": {},
     "output_type": "execute_result"
    }
   ],
   "source": [
    "nlp.get_pipe(\"ner\").labels"
   ]
  },
  {
   "cell_type": "code",
   "execution_count": null,
   "metadata": {},
   "outputs": [],
   "source": []
  }
 ],
 "metadata": {
  "kernelspec": {
   "display_name": "venv1",
   "language": "python",
   "name": "python3"
  },
  "language_info": {
   "codemirror_mode": {
    "name": "ipython",
    "version": 3
   },
   "file_extension": ".py",
   "mimetype": "text/x-python",
   "name": "python",
   "nbconvert_exporter": "python",
   "pygments_lexer": "ipython3",
   "version": "3.10.9"
  }
 },
 "nbformat": 4,
 "nbformat_minor": 2
}
